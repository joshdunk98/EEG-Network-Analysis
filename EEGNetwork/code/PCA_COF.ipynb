{
 "cells": [
  {
   "cell_type": "code",
   "execution_count": 1,
   "metadata": {
    "colab": {
     "base_uri": "https://localhost:8080/",
     "height": 34
    },
    "colab_type": "code",
    "id": "ifr0fqozksFI",
    "outputId": "07abbc4f-8fc0-4c4d-f7d3-5d76e9fc63d3"
   },
   "outputs": [
    {
     "name": "stderr",
     "output_type": "stream",
     "text": [
      "Using TensorFlow backend.\n"
     ]
    }
   ],
   "source": [
    "import numpy as np\n",
    "from sklearn.decomposition import FastICA, PCA\n",
    "import glob\n",
    "import shutil\n",
    "from scipy.io import loadmat\n",
    "from ReClass import Subject, TSModel\n",
    "import matplotlib.pyplot as plt\n",
    "from matplotlib.lines import Line2D\n",
    "from matplotlib.pyplot import figure"
   ]
  },
  {
   "cell_type": "code",
   "execution_count": 2,
   "metadata": {
    "colab": {
     "base_uri": "https://localhost:8080/",
     "height": 54
    },
    "colab_type": "code",
    "id": "ead6CLcdvl7d",
    "outputId": "1b18e64b-52ad-4acc-b0a5-8c6c750e3857"
   },
   "outputs": [
    {
     "name": "stdout",
     "output_type": "stream",
     "text": [
      "['/rec1.mat', '/rec11.mat', '/rec12.mat', '/rec13.mat', '/rec14.mat', '/rec16.mat', '/rec17.mat', '/rec18.mat', '/rec19.mat', '/rec2.mat', '/rec20.mat', '/rec21.mat', '/rec22.mat', '/rec23.mat', '/rec24.mat', '/rec25.mat', '/rec3.mat', '/rec33.mat', '/rec36.mat', '/rec39.mat', '/rec4.mat', '/rec5.mat', '/rec51.mat', '/rec52.mat', '/rec53.mat', '/rec54.mat', '/rec55.mat', '/rec57.mat', '/rec6.mat', '/rec60.mat', '/rec61.mat', '/rec62.mat', '/rec66.mat', '/rec68.mat', '/rec69.mat', '/rec7.mat', '/rec70.mat', '/rec71.mat', '/rec72.mat', '/rec73.mat', '/rec74.mat', '/rec75.mat', '/rec76.mat', '/rec77.mat', '/rec78.mat', '/rec8.mat', '/rec85.mat', '/rec9.mat']\n"
     ]
    }
   ],
   "source": [
    "subjects = [] #Creating a list of Subject classes to keep track of participant information\n",
    "  \n",
    "#separate the .mat files needed from the directories\n",
    "subjectData = sorted(glob.glob('/content/drive/My Drive/Spark-2019/AD_MCI_Data/reformated data/resting data/extracted data 30chns/rest1 1min/rec*.mat'))#+ glob.glob('rec??.mat'))\n",
    "subjectData = [x[108:] for x in subjectData]\n",
    "print(subjectData)\n",
    "\n",
    "#Loop through each file and save the subjects data, state, and channels in a Class Object\n",
    "for index,value in enumerate(subjectData):\n",
    "    subjects.append(Subject(loadmat('/content/drive/My Drive/Spark-2019/AD_MCI_Data/reformated data/resting data/headerInfo'+value)['dx'][0],\\\n",
    "                            loadmat('/content/drive/My Drive/Spark-2019/AD_MCI_Data/reformated data/resting data/extracted data 30chns/rest1 1min'+value)['data'],\\\n",
    "                            index))\n",
    "models = []\n",
    "#Separate subjects into three training sets\n",
    "models.append(TSModel([x for x in subjects if x.cogState == 'N']))\n",
    "models.append(TSModel([x for x in subjects if x.cogState == 'MCI']))\n",
    "models.append(TSModel([x for x in subjects if x.cogState == 'AD']))"
   ]
  },
  {
   "cell_type": "code",
   "execution_count": 3,
   "metadata": {
    "colab": {
     "base_uri": "https://localhost:8080/",
     "height": 136
    },
    "colab_type": "code",
    "id": "kTkny6CUk4gL",
    "outputId": "5d191836-9a07-4053-815d-118648b7987a"
   },
   "outputs": [
    {
     "name": "stdout",
     "output_type": "stream",
     "text": [
      "[[ 1.        0.835827  0.712496 ...  0.548985  0.877313  1.      ]\n",
      " [ 1.       -0.35966   0.665589 ...  0.034155 -0.514784  1.      ]\n",
      " [ 1.       -0.586942 -0.348796 ... -0.132583 -0.146726  1.      ]\n",
      " ...\n",
      " [ 1.       -0.086969  0.037999 ... -0.30925   0.273086  1.      ]\n",
      " [ 1.        0.393127 -0.25362  ... -0.485485 -0.341258  1.      ]\n",
      " [ 1.        0.481539  0.412651 ...  0.133245  0.281413  1.      ]]\n"
     ]
    }
   ],
   "source": [
    "#Absolute path is based on where in the user's local machine the data is stored\n",
    "sub = sorted(glob.glob(\"/content/drive/My Drive/Spark-2019/RECSEM2019/EEG Network/Sub-cof-?.txt\")) + sorted(glob.glob(\"/content/drive/My Drive/Spark-2019/RECSEM2019/EEG Network/Sub-cof-??.txt\"))\n",
    "#Extract only the file name and not the full path\n",
    "sub = [x[58:] for x in sub]\n",
    "count = 0\n",
    "\n",
    "#Loop through each subject's file and reorganize the correlation data into 30x30 matrices\n",
    "for s in sub:\n",
    "  with open(\"/content/drive/My Drive/Spark-2019/RECSEM2019/EEG Network/\" + s, 'r') as f:\n",
    "    lines = f.readlines()[2:]\n",
    "    for i in range(len(lines)):\n",
    "        lines[i] = [float(x) for x in lines[i].split('|')[1:-1]]\n",
    "    if count == 0:\n",
    "      data = [np.asarray(lines).flatten('C')]\n",
    "      count += 1\n",
    "    else:\n",
    "      tmp = np.asarray(lines).flatten('C')\n",
    "      data = np.append(data, [tmp], axis=0)\n",
    "      \n",
    "print(data)\n"
   ]
  },
  {
   "cell_type": "code",
   "execution_count": 7,
   "metadata": {
    "colab": {
     "base_uri": "https://localhost:8080/",
     "height": 34
    },
    "colab_type": "code",
    "id": "FB4MSrAmkZkn",
    "outputId": "a0a949d0-30e9-4b3f-baf8-98c8859535b4"
   },
   "outputs": [
    {
     "name": "stdout",
     "output_type": "stream",
     "text": [
      "48\n"
     ]
    }
   ],
   "source": [
    "#Perfrom PCA and make sure the size of the matrix is still 48xn size\n",
    "  pca = PCA(n_components=2)\n",
    "  dataset = pca.fit_transform(data)\n",
    "  print(len(dataset))"
   ]
  },
  {
   "cell_type": "code",
   "execution_count": 8,
   "metadata": {
    "colab": {
     "base_uri": "https://localhost:8080/",
     "height": 295
    },
    "colab_type": "code",
    "id": "PRY-gq9SvU11",
    "outputId": "e623412c-0ccf-4782-ea4c-742149c4f5b3"
   },
   "outputs": [
    {
     "data": {
      "image/png": "[encoded data removed]",
      "text/plain": [
       "<Figure size 432x288 with 1 Axes>"
      ]
     },
     "metadata": {
      "tags": []
     },
     "output_type": "display_data"
    }
   ],
   "source": [
    "#Plot the newly reduced data\n",
    "#Find out the index for each subject in each training group\n",
    "#Each data point is colored different based on which cognitive group \n",
    "#they belong to\n",
    "NC_index = [x.index for x in models[0].cogStates]\n",
    "MCI_index = [x.index for x in models[1].cogStates]\n",
    "AD_index = [x.index for x in models[2].cogStates]\n",
    "  \n",
    "  \n",
    "legend_elements = [Line2D([0], [0], marker='o', color='w', label='NC',\n",
    "                          markerfacecolor='r', markersize=10), \n",
    "                   Line2D([0], [0], marker='o', color='w', label='MCI',\n",
    "                          markerfacecolor='b', markersize=10),\n",
    "                   Line2D([0], [0], marker='o', color='w', label='AD',\n",
    "                          markerfacecolor='k', markersize=10)]\n",
    "  \n",
    "  \n",
    "plt.figure()\n",
    "plt.minorticks_on()\n",
    "plt.grid(True, 'both')\n",
    "for i,v in enumerate(dataset):\n",
    "\n",
    "  if i in NC_index:\n",
    "    plt.plot(v[0], v[1], 'ro') \n",
    "  elif i in MCI_index:\n",
    "    plt.plot(v[0], v[1], 'bo')\n",
    "  elif i in AD_index:\n",
    "    plt.plot(v[0], v[1], 'ko')\n",
    "    \n",
    "plt.xlabel('Principle Component 1')\n",
    "plt.ylabel('Principle Component 2') #for each component\n",
    "plt.title('PCA of Correlation Matrix')\n",
    "plt.legend(handles=legend_elements, loc='upper right')\n",
    "fig1 = plt.gcf()\n",
    "plt.show()\n",
    "fig1.savefig('Correlation-PCA-2.0.png', bbox_inches='tight')"
   ]
  }
 ],
 "metadata": {
  "colab": {
   "name": "PCA-COF.ipynb",
   "provenance": [],
   "version": "0.3.2"
  },
  "kernelspec": {
   "display_name": "Python 3",
   "language": "python",
   "name": "python3"
  },
  "language_info": {
   "codemirror_mode": {
    "name": "ipython",
    "version": 3
   },
   "file_extension": ".py",
   "mimetype": "text/x-python",
   "name": "python",
   "nbconvert_exporter": "python",
   "pygments_lexer": "ipython3",
   "version": "3.6.8"
  }
 },
 "nbformat": 4,
 "nbformat_minor": 1
}
