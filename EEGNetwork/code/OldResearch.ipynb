{
 "cells": [
  {
   "cell_type": "markdown",
   "metadata": {
    "colab_type": "text",
    "id": "ErwldNkONBOB"
   },
   "source": [
    "\n",
    "\n",
    "\n",
    "\n",
    "\n",
    "\n",
    "# Import Necessary Packages"
   ]
  },
  {
   "cell_type": "code",
   "execution_count": 0,
   "metadata": {
    "colab": {},
    "colab_type": "code",
    "id": "M-u69gWsNBOI"
   },
   "outputs": [],
   "source": [
    "import json\n",
    "import numpy as np\n",
    "from scipy.io import loadmat\n",
    "from sklearn.decomposition import PCA\n",
    "from sklearn.model_selection import LeaveOneOut\n",
    "from sklearn.datasets import make_multilabel_classification\n",
    "from sklearn.multiclass import OneVsRestClassifier\n",
    "from sklearn.svm import SVC\n",
    "from sklearn.cross_decomposition import CCA\n",
    "from ReClass2 import Subject, TSModel\n",
    "import tensorflow as tf\n",
    "import glob\n",
    "import matplotlib.pyplot as plt\n",
    "from matplotlib.lines import Line2D\n",
    "from matplotlib.pyplot import figure\n",
    "from sklearn.preprocessing import MinMaxScaler\n",
    "from sklearn.preprocessing import StandardScaler\n",
    "import scipy.stats as st\n",
    "import shutil\n",
    "import os\n",
    "import keras\n",
    "from keras.models import Sequential, model_from_json\n",
    "from keras.layers import Dense\n",
    "from keras.optimizers import Adam\n",
    "import keras.backend as K\n",
    "import gc\n",
    "start = time.time()"
   ]
  },
  {
   "cell_type": "markdown",
   "metadata": {
    "colab_type": "text",
    "id": "x_X_kmWZNBOZ"
   },
   "source": [
    "# Import data from .mat file"
   ]
  },
  {
   "cell_type": "code",
   "execution_count": 0,
   "metadata": {
    "colab": {},
    "colab_type": "code",
    "id": "4tQ5as4Lj7MW"
   },
   "outputs": [],
   "source": [
    "#Only run this cell if the user has access to a GPU\n",
    "#Flushes out memory to ensure faster model building\n",
    "def reset_keras():\n",
    "  sess=K.tensorflow_backend.get_session()\n",
    "  K.tensorflow_backend.clear_session()\n",
    "  sess.close()\n",
    "  sess=K.tensorflow_backend.get_session()\n",
    "  \n",
    "  try:\n",
    "    del classifier\n",
    "  except:\n",
    "    pass\n",
    "  gc.collect()\n",
    "  \n",
    "  config = tf.ConfigProto()\n",
    "  config.gpu_options.per_process_gpu_memory_fraction = 1\n",
    "  config.gpu_options.visible_device_list = \"0\"\n",
    "  K.tensorflow_backend.set_session(tf.Session(config=config))"
   ]
  },
  {
   "cell_type": "code",
   "execution_count": 0,
   "metadata": {
    "colab": {
     "base_uri": "https://localhost:8080/",
     "height": 72
    },
    "colab_type": "code",
    "id": "AxMKSpgeNBOc",
    "outputId": "b575dbde-fbca-463c-a72c-8c30c3be44fb"
   },
   "outputs": [
    {
     "name": "stdout",
     "output_type": "stream",
     "text": [
      "['rec1.mat', 'rec11.mat', 'rec12.mat', 'rec13.mat', 'rec14.mat', 'rec16.mat', 'rec17.mat', 'rec18.mat', 'rec19.mat', 'rec2.mat', 'rec20.mat', 'rec21.mat', 'rec22.mat', 'rec23.mat', 'rec24.mat', 'rec25.mat', 'rec3.mat', 'rec33.mat', 'rec36.mat', 'rec39.mat', 'rec4.mat', 'rec5.mat', 'rec51.mat', 'rec52.mat', 'rec53.mat', 'rec54.mat', 'rec55.mat', 'rec57.mat', 'rec6.mat', 'rec60.mat', 'rec61.mat', 'rec62.mat', 'rec66.mat', 'rec68.mat', 'rec69.mat', 'rec7.mat', 'rec70.mat', 'rec71.mat', 'rec72.mat', 'rec73.mat', 'rec74.mat', 'rec75.mat', 'rec76.mat', 'rec77.mat', 'rec78.mat', 'rec8.mat', 'rec85.mat', 'rec9.mat']\n",
      "-----time in seconds: 7.873445 s-----\n"
     ]
    }
   ],
   "source": [
    "#Save the models and weights to local machine\n",
    "def save_model(i, models):\n",
    "  count = 1\n",
    "  state = \"\"\n",
    "  if i == 0: \n",
    "    state = \"NC\"\n",
    "  elif i == 1:\n",
    "    state = \"MCI\"\n",
    "  else:\n",
    "    state = \"AD\"\n",
    "  for model in models[i].chModel:\n",
    "    model_json = model.to_json()\n",
    "    with open(\"model-%d-%s.json\" % (count, state), \"a+\") as json_file:\n",
    "        json_file.write(model_json)\n",
    "    # serialize weights to HDF5\n",
    "    model.save_weights(\"model-%d-%s.h5\" % (count, state))\n",
    "    count += 1\n",
    "    print(\"Saved model to disk\")\n",
    "\n",
    "if __name__ == '__main__':\n",
    "  \n",
    "  subjects = [] #Creating a list of Subject classes to keep track of participant information\n",
    "  \n",
    "  #separate the .mat files needed from the directories\n",
    "  subjectData = sorted(glob.glob('/content/drive/My Drive/Spark-2019/AD_MCI_Data/reformated data/resting data/extracted data 30chns/rest1 1min/rec*.mat'))#+ glob.glob('rec??.mat'))\n",
    "  subjectData = [x[109:] for x in subjectData]\n",
    "  print(subjectData)\n",
    "  \n",
    "  #Loop through each file and save the subjects data, state, and channels in a Class Object\n",
    "  for index,value in enumerate(subjectData):\n",
    "      \n",
    "      subjects.append(Subject(loadmat('/content/drive/My Drive/Spark-2019/AD_MCI_Data/reformated data/resting data/headerInfo/'+value)['dx'][0],\\\n",
    "                              loadmat('/content/drive/My Drive/Spark-2019/AD_MCI_Data/reformated data/resting data/extracted data 30chns/rest1 1min/'+value)['data'],\\\n",
    "                              index))"
   ]
  },
  {
   "cell_type": "markdown",
   "metadata": {
    "colab_type": "text",
    "id": "HOwsPCgXNBOn"
   },
   "source": [
    "# Build models using leave-one-out principle"
   ]
  },
  {
   "cell_type": "code",
   "execution_count": 0,
   "metadata": {
    "colab": {},
    "colab_type": "code",
    "id": "jpt3GnjcNBOq"
   },
   "outputs": [],
   "source": [
    "  \"\"\"\n",
    "  for j in record:\n",
    "      Assemble the other 47 subjects into training sets based on their cognitive state -> NC, MCI, AD\n",
    "      for i in channels:\n",
    "          Build a reconstruction model for the current channel i using the other 29 channels\n",
    "          Calculate the quality scores for channel i using the developed models for NC, MCI, and AD\n",
    "      Rearrange the calculated quality scores for record j in the order of q1-q30 for each model\n",
    "  \"\"\"\n",
    "  #Use leave-one-out priniciple for training validation\n",
    "  loo = LeaveOneOut()\n",
    "  models = []\n",
    "  #Separate data into three training sets based on cognitive state\n",
    "  models.append(TSModel([x for x in subjects if x.cogState == 'N']))\n",
    "  models.append(TSModel([x for x in subjects if x.cogState == 'MCI']))\n",
    "  models.append(TSModel([x for x in subjects if x.cogState == 'AD']))\n",
    "  "
   ]
  },
  {
   "cell_type": "code",
   "execution_count": 0,
   "metadata": {
    "colab": {},
    "colab_type": "code",
    "id": "kuF4lQ-ewX1F"
   },
   "outputs": [],
   "source": [
    "  #Train the three training set models to avoid rebuilding them for future use\n",
    "  models[0].trainMatrixModel(\"NC\")\n",
    "  models[1].trainMatrixModel(\"MCI\")\n",
    "  models[2].trainMatrixModel(\"AD\")"
   ]
  },
  {
   "cell_type": "code",
   "execution_count": 0,
   "metadata": {
    "colab": {},
    "colab_type": "code",
    "id": "BFcaxUWFme5l"
   },
   "outputs": [],
   "source": [
    "for train, test in loo.split(models[0].cogStates): \n",
    "    #Train a new model for each subject in the training set using the data from the n other subjects in the set\n",
    "    NC_TR = TSModel([x for x in models[0].cogStates if x.cogState == 'N' and models[0].cogStates.index(x) != test])\n",
    "    NC_TR.trainModel()\n",
    "    \n",
    "    #Make predictions for how well the original data fits the model\n",
    "    NC_TR.predictModels(models[0].cogStates[int(test)])\n",
    "    trained_models[1].predictModels(models[0].cogStates[int(test)])\n",
    "    trained_models[2].predictModels(models[0].cogStates[int(test)])\n",
    "    \n",
    "    #Calculate the correlation coefficient for the original and reconstructed model to determine the strength\n",
    "    #of the relationship between the two signals\n",
    "    NC_TR.calc_CCof(models[0].cogStates[int(test)], \"NC\")\n",
    "    trained_models[1].calc_CCof(models[0].cogStates[int(test)], \"MCI\")\n",
    "    trained_models[2].calc_CCof(models[0].cogStates[int(test)], \"AD\")\n",
    "    \n",
    "    #Only use this function if there is access to the GPU\n",
    "    #K.clear_session()"
   ]
  },
  {
   "cell_type": "markdown",
   "metadata": {
    "colab_type": "text",
    "id": "Y60Z2ZLxgtkx"
   },
   "source": [
    "# Gather Correlation Coefficients and create a Correlation Matrix"
   ]
  },
  {
   "cell_type": "code",
   "execution_count": 0,
   "metadata": {
    "colab": {},
    "colab_type": "code",
    "id": "uPQNC4YUfLZ2"
   },
   "outputs": [],
   "source": [
    "#Absolute path is dependent on where the files are located in the user's local machine\n",
    "sub = sorted(glob.glob(\"/content/drive/My Drive/Spark-2019/Subject Data/Sub-?.txt\")) + sorted(glob.glob(\"/content/drive/My Drive/Spark-2019/Subject Data/Sub-??.txt\"))\n",
    "NC=[]\n",
    "MCI=[]\n",
    "AD=[]\n",
    "i=0\n",
    "\n",
    "#loop through each subject's file containing correlation coefficient data\n",
    "#Build the 48x90 matrix organizing the rows into the subject indices\n",
    "#and organizing the columns in the following order: first 30 are NC,\n",
    "#next 30 are MCI, last 30 are AD\n",
    "for file in sub:\n",
    "  with open(file, \"r\") as f:\n",
    "    \n",
    "    x = f.readlines()\n",
    "    check = 0\n",
    "    \n",
    "    for y in x:\n",
    "      if y != '\\n' and y[0] != '-':\n",
    "        check = 0\n",
    "        y = y.split()\n",
    "        if 'NC-Model' in y:\n",
    "          pass\n",
    "        elif 'MCI-Model' in y:\n",
    "          check = 1\n",
    "        elif 'AD-Model' in y: \n",
    "          check = 2\n",
    "      elif y != '\\n' and y[0] == '-':\n",
    "        y = y.split()[1].strip(',').strip('(')\n",
    "        if check == 0:\n",
    "          NC.append(y)\n",
    "        elif check == 1:\n",
    "          MCI.append(y)\n",
    "        else:\n",
    "          AD.append(y)\n",
    "  if i == 0:\n",
    "    cof_matrix = np.asarray([NC+MCI+AD])\n",
    "    i += 1\n",
    "  else:\n",
    "    s = np.asarray(NC+MCI+AD)\n",
    "    cof_matrix = np.append(cof_matrix, [s], axis = 0)\n",
    "  \n",
    "  NC.clear()\n",
    "  MCI.clear()\n",
    "  AD.clear()\n",
    "  "
   ]
  },
  {
   "cell_type": "markdown",
   "metadata": {
    "colab_type": "text",
    "id": "w3MZqB4qDD8Z"
   },
   "source": [
    "# Use PCA and Plot Principle Components"
   ]
  },
  {
   "cell_type": "code",
   "execution_count": 0,
   "metadata": {
    "colab": {
     "base_uri": "https://localhost:8080/",
     "height": 295
    },
    "colab_type": "code",
    "id": "19TqADsV4zpD",
    "outputId": "501dc2a5-bc36-4f8f-d5e7-8ac2694d9104"
   },
   "outputs": [
    {
     "data": {
      "image/png": "[encoded data removed]",
      "text/plain": [
       "<Figure size 432x288 with 1 Axes>"
      ]
     },
     "metadata": {
      "tags": []
     },
     "output_type": "display_data"
    }
   ],
   "source": [
    "#Perform PCA on the data and plot the results on the xy-plane\n",
    "pca = PCA(n_components=2)\n",
    "dataset = pca.fit_transform(cof_matrix)\n",
    "\n",
    "NC_index = [x.index for x in models[0].cogStates]\n",
    "MCI_index = [x.index for x in models[1].cogStates]\n",
    "AD_index = [x.index for x in models[2].cogStates]\n",
    "  \n",
    "  \n",
    "legend_elements = [Line2D([0], [0], marker='o', color='w', label='NC',\n",
    "                          markerfacecolor='r', markersize=10), \n",
    "                   Line2D([0], [0], marker='o', color='w', label='MCI',\n",
    "                          markerfacecolor='b', markersize=10),\n",
    "                   Line2D([0], [0], marker='o', color='w', label='AD',\n",
    "                          markerfacecolor='k', markersize=10)]\n",
    "  \n",
    "  \n",
    "plt.figure()\n",
    "plt.minorticks_on()\n",
    "plt.grid(True, 'both')\n",
    "for i,v in enumerate(dataset):\n",
    "\n",
    "  if i in NC_index:\n",
    "    plt.plot(v[0], v[1], 'ro') \n",
    "  elif i in MCI_index:\n",
    "    plt.plot(v[0], v[1], 'bo')\n",
    "  elif i in AD_index:\n",
    "    plt.plot(v[0], v[1], 'ko')\n",
    "    \n",
    "plt.xlabel('Principle Component 1')\n",
    "plt.ylabel('Principle Component 2') #for each component\n",
    "plt.title('PCA of Correlation Matrix')\n",
    "plt.legend(handles=legend_elements, loc='upper right')\n",
    "fig1 = plt.gcf()\n",
    "plt.show()\n",
    "fig1.savefig('Correlation-PCA.png', bbox_inches='tight')"
   ]
  },
  {
   "cell_type": "markdown",
   "metadata": {
    "colab_type": "text",
    "id": "Q83Dv_8ONBO8"
   },
   "source": [
    "# Classify using an SVM Model"
   ]
  },
  {
   "cell_type": "code",
   "execution_count": 0,
   "metadata": {
    "colab": {},
    "colab_type": "code",
    "id": "9pLV282IsMFF"
   },
   "outputs": [],
   "source": [
    "#Perform SVM on the reduced data from above\n",
    "def plot_hyperplane(clf, min_x, max_x, linestyle, label):\n",
    "    # get the separating hyperplane\n",
    "    w = clf.coef_[0]\n",
    "    a = -w[0] / w[1]\n",
    "    xx = np.linspace(min_x - 5, max_x + 5)  # make sure the line is long enough\n",
    "    yy = a * xx - (clf.intercept_[0]) / w[1]\n",
    "    plt.plot(xx, yy, linestyle, label=label)\n",
    "\n",
    "\n",
    "def plot_subfigure(X, Y, subplot, title, transform):\n",
    "    if transform == \"pca\":\n",
    "        X = PCA(n_components=2).fit_transform(X)\n",
    "    elif transform == \"cca\":\n",
    "        X = CCA(n_components=2).fit(X, Y).transform(X)\n",
    "    else:\n",
    "        raise ValueError\n",
    "\n",
    "    min_x = np.min(X[:, 0])\n",
    "    max_x = np.max(X[:, 0])\n",
    "\n",
    "    min_y = np.min(X[:, 1])\n",
    "    max_y = np.max(X[:, 1])\n",
    "\n",
    "    classif = OneVsRestClassifier(SVC(kernel='linear'))\n",
    "    classif.fit(X, Y)\n",
    "\n",
    "    plt.subplot(2, 2, subplot)\n",
    "    plt.title(title)\n",
    "\n",
    "    zero_class = np.where(Y[:, 0])\n",
    "    one_class = np.where(Y[:, 1])\n",
    "\n",
    "    plt.scatter(X[:, 0], X[:, 1], s=80, marker='^', label='MCI',linewidth='2', edgecolor='black')\n",
    "    \n",
    "    plt.scatter(X[zero_class, 0], X[zero_class, 1],s=150, marker = 's', label='AD',linewidth='2', edgecolor='black')\n",
    "    \n",
    "    plt.scatter(X[one_class, 0], X[one_class, 1], s=150, label='NC',linewidth='2', edgecolor='black')\n",
    "\n",
    "    plot_hyperplane(classif.estimators_[0], min_x, max_x, 'k--',\n",
    "                    'Boundary\\nfor class MCI & AD')\n",
    "    plot_hyperplane(classif.estimators_[1], min_x, max_x, 'k-.',\n",
    "                    'Boundary\\nfor class NC & MCI')\n",
    "\n",
    "    plt.xticks(())\n",
    "    plt.yticks(())\n",
    "\n",
    "    plt.xlim(min_x - .5 * max_x, max_x + .5 * max_x)\n",
    "    plt.ylim(min_y - .5 * max_y, max_y + .5 * max_y)\n",
    "    \n",
    "    plt.xlabel('First principal component')\n",
    "    plt.ylabel('Second principal component')\n",
    "    plt.legend(loc=\"upper left\")\n",
    "\n",
    "\n",
    "plt.figure(figsize=(32, 24))\n",
    "\n",
    "plot_subfigure(x, np.reshape(y,(-1,2)), 1, \"With labeled samples + PCA\", \"pca\")"
   ]
  }
 ],
 "metadata": {
  "accelerator": "GPU",
  "colab": {
   "collapsed_sections": [
    "HbL-9PV6epBn"
   ],
   "name": "Right_shift_2_0.ipynb",
   "provenance": [],
   "toc_visible": true,
   "version": "0.3.2"
  },
  "kernelspec": {
   "display_name": "Python 3",
   "language": "python",
   "name": "python3"
  },
  "language_info": {
   "codemirror_mode": {
    "name": "ipython",
    "version": 3
   },
   "file_extension": ".py",
   "mimetype": "text/x-python",
   "name": "python",
   "nbconvert_exporter": "python",
   "pygments_lexer": "ipython3",
   "version": "3.6.8"
  }
 },
 "nbformat": 4,
 "nbformat_minor": 1
}
